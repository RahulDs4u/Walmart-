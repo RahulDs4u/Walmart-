{
  "nbformat": 4,
  "nbformat_minor": 0,
  "metadata": {
    "colab": {
      "provenance": [],
      "toc_visible": true,
      "authorship_tag": "ABX9TyPLiOnJOVU/PdzjohsVw9Lh",
      "include_colab_link": true
    },
    "kernelspec": {
      "name": "python3",
      "display_name": "Python 3"
    },
    "language_info": {
      "name": "python"
    }
  },
  "cells": [
    {
      "cell_type": "markdown",
      "metadata": {
        "id": "view-in-github",
        "colab_type": "text"
      },
      "source": [
        "<a href=\"https://colab.research.google.com/github/RahulDs4u/Walmart-/blob/main/Walmart_Business_case_study.ipynb\" target=\"_parent\"><img src=\"https://colab.research.google.com/assets/colab-badge.svg\" alt=\"Open In Colab\"/></a>"
      ]
    },
    {
      "cell_type": "code",
      "execution_count": null,
      "metadata": {
        "id": "N2lmip3Wz0z-"
      },
      "outputs": [],
      "source": [
        "import numpy as np\n",
        "import pandas as pd\n",
        "import matplotlib.pyplot as plt\n",
        "import seaborn as sns"
      ]
    },
    {
      "cell_type": "code",
      "source": [
        "df = pd.read_csv('walmart_data.csv')\n",
        "df.head()"
      ],
      "metadata": {
        "colab": {
          "base_uri": "https://localhost:8080/",
          "height": 295
        },
        "id": "jpU01Py406_J",
        "outputId": "7be86573-46ff-4732-ed3c-26e373712bf2"
      },
      "execution_count": null,
      "outputs": [
        {
          "output_type": "execute_result",
          "data": {
            "text/plain": [
              "   User_ID Product_ID Gender   Age  Occupation City_Category  \\\n",
              "0  1000001  P00069042      F  0-17          10             A   \n",
              "1  1000001  P00248942      F  0-17          10             A   \n",
              "2  1000001  P00087842      F  0-17          10             A   \n",
              "3  1000001  P00085442      F  0-17          10             A   \n",
              "4  1000002  P00285442      M   55+          16             C   \n",
              "\n",
              "  Stay_In_Current_City_Years  Marital_Status  Product_Category  Purchase  \n",
              "0                          2               0                 3      8370  \n",
              "1                          2               0                 1     15200  \n",
              "2                          2               0                12      1422  \n",
              "3                          2               0                12      1057  \n",
              "4                         4+               0                 8      7969  "
            ],
            "text/html": [
              "\n",
              "  <div id=\"df-39b0254d-e9be-40cd-b485-7cafd74bf47b\" class=\"colab-df-container\">\n",
              "    <div>\n",
              "<style scoped>\n",
              "    .dataframe tbody tr th:only-of-type {\n",
              "        vertical-align: middle;\n",
              "    }\n",
              "\n",
              "    .dataframe tbody tr th {\n",
              "        vertical-align: top;\n",
              "    }\n",
              "\n",
              "    .dataframe thead th {\n",
              "        text-align: right;\n",
              "    }\n",
              "</style>\n",
              "<table border=\"1\" class=\"dataframe\">\n",
              "  <thead>\n",
              "    <tr style=\"text-align: right;\">\n",
              "      <th></th>\n",
              "      <th>User_ID</th>\n",
              "      <th>Product_ID</th>\n",
              "      <th>Gender</th>\n",
              "      <th>Age</th>\n",
              "      <th>Occupation</th>\n",
              "      <th>City_Category</th>\n",
              "      <th>Stay_In_Current_City_Years</th>\n",
              "      <th>Marital_Status</th>\n",
              "      <th>Product_Category</th>\n",
              "      <th>Purchase</th>\n",
              "    </tr>\n",
              "  </thead>\n",
              "  <tbody>\n",
              "    <tr>\n",
              "      <th>0</th>\n",
              "      <td>1000001</td>\n",
              "      <td>P00069042</td>\n",
              "      <td>F</td>\n",
              "      <td>0-17</td>\n",
              "      <td>10</td>\n",
              "      <td>A</td>\n",
              "      <td>2</td>\n",
              "      <td>0</td>\n",
              "      <td>3</td>\n",
              "      <td>8370</td>\n",
              "    </tr>\n",
              "    <tr>\n",
              "      <th>1</th>\n",
              "      <td>1000001</td>\n",
              "      <td>P00248942</td>\n",
              "      <td>F</td>\n",
              "      <td>0-17</td>\n",
              "      <td>10</td>\n",
              "      <td>A</td>\n",
              "      <td>2</td>\n",
              "      <td>0</td>\n",
              "      <td>1</td>\n",
              "      <td>15200</td>\n",
              "    </tr>\n",
              "    <tr>\n",
              "      <th>2</th>\n",
              "      <td>1000001</td>\n",
              "      <td>P00087842</td>\n",
              "      <td>F</td>\n",
              "      <td>0-17</td>\n",
              "      <td>10</td>\n",
              "      <td>A</td>\n",
              "      <td>2</td>\n",
              "      <td>0</td>\n",
              "      <td>12</td>\n",
              "      <td>1422</td>\n",
              "    </tr>\n",
              "    <tr>\n",
              "      <th>3</th>\n",
              "      <td>1000001</td>\n",
              "      <td>P00085442</td>\n",
              "      <td>F</td>\n",
              "      <td>0-17</td>\n",
              "      <td>10</td>\n",
              "      <td>A</td>\n",
              "      <td>2</td>\n",
              "      <td>0</td>\n",
              "      <td>12</td>\n",
              "      <td>1057</td>\n",
              "    </tr>\n",
              "    <tr>\n",
              "      <th>4</th>\n",
              "      <td>1000002</td>\n",
              "      <td>P00285442</td>\n",
              "      <td>M</td>\n",
              "      <td>55+</td>\n",
              "      <td>16</td>\n",
              "      <td>C</td>\n",
              "      <td>4+</td>\n",
              "      <td>0</td>\n",
              "      <td>8</td>\n",
              "      <td>7969</td>\n",
              "    </tr>\n",
              "  </tbody>\n",
              "</table>\n",
              "</div>\n",
              "    <div class=\"colab-df-buttons\">\n",
              "\n",
              "  <div class=\"colab-df-container\">\n",
              "    <button class=\"colab-df-convert\" onclick=\"convertToInteractive('df-39b0254d-e9be-40cd-b485-7cafd74bf47b')\"\n",
              "            title=\"Convert this dataframe to an interactive table.\"\n",
              "            style=\"display:none;\">\n",
              "\n",
              "  <svg xmlns=\"http://www.w3.org/2000/svg\" height=\"24px\" viewBox=\"0 -960 960 960\">\n",
              "    <path d=\"M120-120v-720h720v720H120Zm60-500h600v-160H180v160Zm220 220h160v-160H400v160Zm0 220h160v-160H400v160ZM180-400h160v-160H180v160Zm440 0h160v-160H620v160ZM180-180h160v-160H180v160Zm440 0h160v-160H620v160Z\"/>\n",
              "  </svg>\n",
              "    </button>\n",
              "\n",
              "  <style>\n",
              "    .colab-df-container {\n",
              "      display:flex;\n",
              "      gap: 12px;\n",
              "    }\n",
              "\n",
              "    .colab-df-convert {\n",
              "      background-color: #E8F0FE;\n",
              "      border: none;\n",
              "      border-radius: 50%;\n",
              "      cursor: pointer;\n",
              "      display: none;\n",
              "      fill: #1967D2;\n",
              "      height: 32px;\n",
              "      padding: 0 0 0 0;\n",
              "      width: 32px;\n",
              "    }\n",
              "\n",
              "    .colab-df-convert:hover {\n",
              "      background-color: #E2EBFA;\n",
              "      box-shadow: 0px 1px 2px rgba(60, 64, 67, 0.3), 0px 1px 3px 1px rgba(60, 64, 67, 0.15);\n",
              "      fill: #174EA6;\n",
              "    }\n",
              "\n",
              "    .colab-df-buttons div {\n",
              "      margin-bottom: 4px;\n",
              "    }\n",
              "\n",
              "    [theme=dark] .colab-df-convert {\n",
              "      background-color: #3B4455;\n",
              "      fill: #D2E3FC;\n",
              "    }\n",
              "\n",
              "    [theme=dark] .colab-df-convert:hover {\n",
              "      background-color: #434B5C;\n",
              "      box-shadow: 0px 1px 3px 1px rgba(0, 0, 0, 0.15);\n",
              "      filter: drop-shadow(0px 1px 2px rgba(0, 0, 0, 0.3));\n",
              "      fill: #FFFFFF;\n",
              "    }\n",
              "  </style>\n",
              "\n",
              "    <script>\n",
              "      const buttonEl =\n",
              "        document.querySelector('#df-39b0254d-e9be-40cd-b485-7cafd74bf47b button.colab-df-convert');\n",
              "      buttonEl.style.display =\n",
              "        google.colab.kernel.accessAllowed ? 'block' : 'none';\n",
              "\n",
              "      async function convertToInteractive(key) {\n",
              "        const element = document.querySelector('#df-39b0254d-e9be-40cd-b485-7cafd74bf47b');\n",
              "        const dataTable =\n",
              "          await google.colab.kernel.invokeFunction('convertToInteractive',\n",
              "                                                    [key], {});\n",
              "        if (!dataTable) return;\n",
              "\n",
              "        const docLinkHtml = 'Like what you see? Visit the ' +\n",
              "          '<a target=\"_blank\" href=https://colab.research.google.com/notebooks/data_table.ipynb>data table notebook</a>'\n",
              "          + ' to learn more about interactive tables.';\n",
              "        element.innerHTML = '';\n",
              "        dataTable['output_type'] = 'display_data';\n",
              "        await google.colab.output.renderOutput(dataTable, element);\n",
              "        const docLink = document.createElement('div');\n",
              "        docLink.innerHTML = docLinkHtml;\n",
              "        element.appendChild(docLink);\n",
              "      }\n",
              "    </script>\n",
              "  </div>\n",
              "\n",
              "\n",
              "<div id=\"df-5c4c8fb2-7dbc-4440-b70c-91c412740608\">\n",
              "  <button class=\"colab-df-quickchart\" onclick=\"quickchart('df-5c4c8fb2-7dbc-4440-b70c-91c412740608')\"\n",
              "            title=\"Suggest charts\"\n",
              "            style=\"display:none;\">\n",
              "\n",
              "<svg xmlns=\"http://www.w3.org/2000/svg\" height=\"24px\"viewBox=\"0 0 24 24\"\n",
              "     width=\"24px\">\n",
              "    <g>\n",
              "        <path d=\"M19 3H5c-1.1 0-2 .9-2 2v14c0 1.1.9 2 2 2h14c1.1 0 2-.9 2-2V5c0-1.1-.9-2-2-2zM9 17H7v-7h2v7zm4 0h-2V7h2v10zm4 0h-2v-4h2v4z\"/>\n",
              "    </g>\n",
              "</svg>\n",
              "  </button>\n",
              "\n",
              "<style>\n",
              "  .colab-df-quickchart {\n",
              "      --bg-color: #E8F0FE;\n",
              "      --fill-color: #1967D2;\n",
              "      --hover-bg-color: #E2EBFA;\n",
              "      --hover-fill-color: #174EA6;\n",
              "      --disabled-fill-color: #AAA;\n",
              "      --disabled-bg-color: #DDD;\n",
              "  }\n",
              "\n",
              "  [theme=dark] .colab-df-quickchart {\n",
              "      --bg-color: #3B4455;\n",
              "      --fill-color: #D2E3FC;\n",
              "      --hover-bg-color: #434B5C;\n",
              "      --hover-fill-color: #FFFFFF;\n",
              "      --disabled-bg-color: #3B4455;\n",
              "      --disabled-fill-color: #666;\n",
              "  }\n",
              "\n",
              "  .colab-df-quickchart {\n",
              "    background-color: var(--bg-color);\n",
              "    border: none;\n",
              "    border-radius: 50%;\n",
              "    cursor: pointer;\n",
              "    display: none;\n",
              "    fill: var(--fill-color);\n",
              "    height: 32px;\n",
              "    padding: 0;\n",
              "    width: 32px;\n",
              "  }\n",
              "\n",
              "  .colab-df-quickchart:hover {\n",
              "    background-color: var(--hover-bg-color);\n",
              "    box-shadow: 0 1px 2px rgba(60, 64, 67, 0.3), 0 1px 3px 1px rgba(60, 64, 67, 0.15);\n",
              "    fill: var(--button-hover-fill-color);\n",
              "  }\n",
              "\n",
              "  .colab-df-quickchart-complete:disabled,\n",
              "  .colab-df-quickchart-complete:disabled:hover {\n",
              "    background-color: var(--disabled-bg-color);\n",
              "    fill: var(--disabled-fill-color);\n",
              "    box-shadow: none;\n",
              "  }\n",
              "\n",
              "  .colab-df-spinner {\n",
              "    border: 2px solid var(--fill-color);\n",
              "    border-color: transparent;\n",
              "    border-bottom-color: var(--fill-color);\n",
              "    animation:\n",
              "      spin 1s steps(1) infinite;\n",
              "  }\n",
              "\n",
              "  @keyframes spin {\n",
              "    0% {\n",
              "      border-color: transparent;\n",
              "      border-bottom-color: var(--fill-color);\n",
              "      border-left-color: var(--fill-color);\n",
              "    }\n",
              "    20% {\n",
              "      border-color: transparent;\n",
              "      border-left-color: var(--fill-color);\n",
              "      border-top-color: var(--fill-color);\n",
              "    }\n",
              "    30% {\n",
              "      border-color: transparent;\n",
              "      border-left-color: var(--fill-color);\n",
              "      border-top-color: var(--fill-color);\n",
              "      border-right-color: var(--fill-color);\n",
              "    }\n",
              "    40% {\n",
              "      border-color: transparent;\n",
              "      border-right-color: var(--fill-color);\n",
              "      border-top-color: var(--fill-color);\n",
              "    }\n",
              "    60% {\n",
              "      border-color: transparent;\n",
              "      border-right-color: var(--fill-color);\n",
              "    }\n",
              "    80% {\n",
              "      border-color: transparent;\n",
              "      border-right-color: var(--fill-color);\n",
              "      border-bottom-color: var(--fill-color);\n",
              "    }\n",
              "    90% {\n",
              "      border-color: transparent;\n",
              "      border-bottom-color: var(--fill-color);\n",
              "    }\n",
              "  }\n",
              "</style>\n",
              "\n",
              "  <script>\n",
              "    async function quickchart(key) {\n",
              "      const quickchartButtonEl =\n",
              "        document.querySelector('#' + key + ' button');\n",
              "      quickchartButtonEl.disabled = true;  // To prevent multiple clicks.\n",
              "      quickchartButtonEl.classList.add('colab-df-spinner');\n",
              "      try {\n",
              "        const charts = await google.colab.kernel.invokeFunction(\n",
              "            'suggestCharts', [key], {});\n",
              "      } catch (error) {\n",
              "        console.error('Error during call to suggestCharts:', error);\n",
              "      }\n",
              "      quickchartButtonEl.classList.remove('colab-df-spinner');\n",
              "      quickchartButtonEl.classList.add('colab-df-quickchart-complete');\n",
              "    }\n",
              "    (() => {\n",
              "      let quickchartButtonEl =\n",
              "        document.querySelector('#df-5c4c8fb2-7dbc-4440-b70c-91c412740608 button');\n",
              "      quickchartButtonEl.style.display =\n",
              "        google.colab.kernel.accessAllowed ? 'block' : 'none';\n",
              "    })();\n",
              "  </script>\n",
              "</div>\n",
              "\n",
              "    </div>\n",
              "  </div>\n"
            ],
            "application/vnd.google.colaboratory.intrinsic+json": {
              "type": "dataframe",
              "variable_name": "df"
            }
          },
          "metadata": {},
          "execution_count": 88
        }
      ]
    },
    {
      "cell_type": "code",
      "source": [
        "df['Product_Category'].nunique()"
      ],
      "metadata": {
        "colab": {
          "base_uri": "https://localhost:8080/"
        },
        "id": "fXLoSLN8Qbxa",
        "outputId": "d0bbb59a-9a96-442d-f9d0-de187be55e66"
      },
      "execution_count": null,
      "outputs": [
        {
          "output_type": "execute_result",
          "data": {
            "text/plain": [
              "13"
            ]
          },
          "metadata": {},
          "execution_count": 58
        }
      ]
    },
    {
      "cell_type": "markdown",
      "source": [
        "# 1.Import the dataset and do usual data analysis steps like checking the structure & characteristics of the dataset"
      ],
      "metadata": {
        "id": "XbffM41s30li"
      }
    },
    {
      "cell_type": "markdown",
      "source": [
        "a. The data type of all columns in the “customers” table."
      ],
      "metadata": {
        "id": "2qcoaPq435mn"
      }
    },
    {
      "cell_type": "code",
      "source": [
        "df.dtypes"
      ],
      "metadata": {
        "colab": {
          "base_uri": "https://localhost:8080/"
        },
        "id": "ETCntnN908P9",
        "outputId": "ca694226-5091-4dea-8840-fa67554629a4"
      },
      "execution_count": null,
      "outputs": [
        {
          "output_type": "execute_result",
          "data": {
            "text/plain": [
              "User_ID                        int64\n",
              "Product_ID                    object\n",
              "Gender                        object\n",
              "Age                           object\n",
              "Occupation                     int64\n",
              "City_Category                 object\n",
              "Stay_In_Current_City_Years    object\n",
              "Marital_Status                 int64\n",
              "Product_Category               int64\n",
              "Purchase                       int64\n",
              "dtype: object"
            ]
          },
          "metadata": {},
          "execution_count": 8
        }
      ]
    },
    {
      "cell_type": "code",
      "source": [],
      "metadata": {
        "id": "iWVpsiy008MO"
      },
      "execution_count": null,
      "outputs": []
    },
    {
      "cell_type": "markdown",
      "source": [
        "b. You can find the number of rows and columns given in the dataset"
      ],
      "metadata": {
        "id": "vxDnAB1d49NU"
      }
    },
    {
      "cell_type": "code",
      "source": [
        "df.shape\n",
        "print(f'Number of rows --> {df.shape[0]}')\n",
        "print(f'Number of columns --> {df.shape[1]}')"
      ],
      "metadata": {
        "colab": {
          "base_uri": "https://localhost:8080/"
        },
        "id": "glzgGyb508JO",
        "outputId": "19a0b016-6312-4a03-fd08-8e2c9ab61242"
      },
      "execution_count": null,
      "outputs": [
        {
          "output_type": "stream",
          "name": "stdout",
          "text": [
            "Number of rows --> 550068\n",
            "Number of columns --> 10\n"
          ]
        }
      ]
    },
    {
      "cell_type": "markdown",
      "source": [
        "c. Check for the missing values and find the number of missing values in each\n",
        "column"
      ],
      "metadata": {
        "id": "7sXq9pCc6j-k"
      }
    },
    {
      "cell_type": "code",
      "source": [
        "missing_values = df.isnull().sum()\n",
        "print(\"Number of missing values in each column:\")\n",
        "print(missing_values)"
      ],
      "metadata": {
        "colab": {
          "base_uri": "https://localhost:8080/"
        },
        "id": "GBTPcGXY08Fu",
        "outputId": "0f5cb4fd-07ff-4d1a-8911-1717e4caca8f"
      },
      "execution_count": null,
      "outputs": [
        {
          "output_type": "stream",
          "name": "stdout",
          "text": [
            "Number of missing values in each column:\n",
            "User_ID                       0\n",
            "Product_ID                    0\n",
            "Gender                        0\n",
            "Age                           0\n",
            "Occupation                    0\n",
            "City_Category                 0\n",
            "Stay_In_Current_City_Years    0\n",
            "Marital_Status                0\n",
            "Product_Category              0\n",
            "Purchase                      0\n",
            "dtype: int64\n"
          ]
        }
      ]
    },
    {
      "cell_type": "code",
      "source": [],
      "metadata": {
        "id": "6bo-Y1vl0790"
      },
      "execution_count": null,
      "outputs": []
    },
    {
      "cell_type": "markdown",
      "source": [
        "# 2. Detect Null values and outliers"
      ],
      "metadata": {
        "id": "ToS4W5Nr7-nk"
      }
    },
    {
      "cell_type": "code",
      "source": [
        "# No null values for any columns"
      ],
      "metadata": {
        "id": "BrRFcsCK0751"
      },
      "execution_count": null,
      "outputs": []
    },
    {
      "cell_type": "markdown",
      "source": [
        "a. Find the outliers for every continuous variable in the dataset\n",
        "\n",
        "Hint: Use boxplots to find the outliers in the given dataset"
      ],
      "metadata": {
        "id": "fHsb8NO18kre"
      }
    },
    {
      "cell_type": "code",
      "source": [
        "# Find Outliers\n",
        "continuous_columns = ['Occupation', 'Product_Category', 'Purchase']\n",
        "plt.figure(figsize=(8, 5))\n",
        "for i, col in enumerate(continuous_columns, 1):\n",
        "    plt.subplot(1, 3, i)\n",
        "    sns.boxplot(y=df[col])\n",
        "\n",
        "plt.tight_layout()\n",
        "plt.show()"
      ],
      "metadata": {
        "colab": {
          "base_uri": "https://localhost:8080/",
          "height": 506
        },
        "id": "p7mHY24z072r",
        "outputId": "1263ff6a-e3ee-4cf1-9ba6-c6cb030d5728"
      },
      "execution_count": null,
      "outputs": [
        {
          "output_type": "display_data",
          "data": {
            "text/plain": [
              "<Figure size 800x500 with 3 Axes>"
            ],
            "image/png": "[encoded data removed]"
          },
          "metadata": {}
        }
      ]
    },
    {
      "cell_type": "code",
      "source": [],
      "metadata": {
        "id": "p-m4HkB585lh"
      },
      "execution_count": null,
      "outputs": []
    },
    {
      "cell_type": "markdown",
      "source": [
        "b. Remove/clip the data between the 5 percentile and 95 percentile"
      ],
      "metadata": {
        "id": "CQsxJS8bBACq"
      }
    },
    {
      "cell_type": "code",
      "source": [
        "# Calculate the 5th and 95th percentiles for each continuous column\n",
        "percentiles = df[continuous_columns].quantile([0.05, 0.95])\n",
        "\n",
        "# Clip the data between the 5th and 95th percentiles\n",
        "for col in continuous_columns:\n",
        "    df[col] = np.clip(df[col], percentiles[col].iloc[0], percentiles[col].iloc[1])\n",
        "\n",
        "# Display the clipped dataset\n",
        "df.head()"
      ],
      "metadata": {
        "colab": {
          "base_uri": "https://localhost:8080/",
          "height": 295
        },
        "id": "SfVurPNq85jB",
        "outputId": "9f8322e0-7f33-4e26-ee73-2f62fd79ba64"
      },
      "execution_count": null,
      "outputs": [
        {
          "output_type": "execute_result",
          "data": {
            "text/plain": [
              "   User_ID Product_ID Gender   Age  Occupation City_Category  \\\n",
              "0  1000001  P00069042      F  0-17          10             A   \n",
              "1  1000001  P00248942      F  0-17          10             A   \n",
              "2  1000001  P00087842      F  0-17          10             A   \n",
              "3  1000001  P00085442      F  0-17          10             A   \n",
              "4  1000002  P00285442      M   55+          16             C   \n",
              "\n",
              "  Stay_In_Current_City_Years  Marital_Status  Product_Category  Purchase  \n",
              "0                          2               0                 3      8370  \n",
              "1                          2               0                 1     15200  \n",
              "2                          2               0                12      1984  \n",
              "3                          2               0                12      1984  \n",
              "4                         4+               0                 8      7969  "
            ],
            "text/html": [
              "\n",
              "  <div id=\"df-05008b0e-e49b-475e-a336-907e3d196445\" class=\"colab-df-container\">\n",
              "    <div>\n",
              "<style scoped>\n",
              "    .dataframe tbody tr th:only-of-type {\n",
              "        vertical-align: middle;\n",
              "    }\n",
              "\n",
              "    .dataframe tbody tr th {\n",
              "        vertical-align: top;\n",
              "    }\n",
              "\n",
              "    .dataframe thead th {\n",
              "        text-align: right;\n",
              "    }\n",
              "</style>\n",
              "<table border=\"1\" class=\"dataframe\">\n",
              "  <thead>\n",
              "    <tr style=\"text-align: right;\">\n",
              "      <th></th>\n",
              "      <th>User_ID</th>\n",
              "      <th>Product_ID</th>\n",
              "      <th>Gender</th>\n",
              "      <th>Age</th>\n",
              "      <th>Occupation</th>\n",
              "      <th>City_Category</th>\n",
              "      <th>Stay_In_Current_City_Years</th>\n",
              "      <th>Marital_Status</th>\n",
              "      <th>Product_Category</th>\n",
              "      <th>Purchase</th>\n",
              "    </tr>\n",
              "  </thead>\n",
              "  <tbody>\n",
              "    <tr>\n",
              "      <th>0</th>\n",
              "      <td>1000001</td>\n",
              "      <td>P00069042</td>\n",
              "      <td>F</td>\n",
              "      <td>0-17</td>\n",
              "      <td>10</td>\n",
              "      <td>A</td>\n",
              "      <td>2</td>\n",
              "      <td>0</td>\n",
              "      <td>3</td>\n",
              "      <td>8370</td>\n",
              "    </tr>\n",
              "    <tr>\n",
              "      <th>1</th>\n",
              "      <td>1000001</td>\n",
              "      <td>P00248942</td>\n",
              "      <td>F</td>\n",
              "      <td>0-17</td>\n",
              "      <td>10</td>\n",
              "      <td>A</td>\n",
              "      <td>2</td>\n",
              "      <td>0</td>\n",
              "      <td>1</td>\n",
              "      <td>15200</td>\n",
              "    </tr>\n",
              "    <tr>\n",
              "      <th>2</th>\n",
              "      <td>1000001</td>\n",
              "      <td>P00087842</td>\n",
              "      <td>F</td>\n",
              "      <td>0-17</td>\n",
              "      <td>10</td>\n",
              "      <td>A</td>\n",
              "      <td>2</td>\n",
              "      <td>0</td>\n",
              "      <td>12</td>\n",
              "      <td>1984</td>\n",
              "    </tr>\n",
              "    <tr>\n",
              "      <th>3</th>\n",
              "      <td>1000001</td>\n",
              "      <td>P00085442</td>\n",
              "      <td>F</td>\n",
              "      <td>0-17</td>\n",
              "      <td>10</td>\n",
              "      <td>A</td>\n",
              "      <td>2</td>\n",
              "      <td>0</td>\n",
              "      <td>12</td>\n",
              "      <td>1984</td>\n",
              "    </tr>\n",
              "    <tr>\n",
              "      <th>4</th>\n",
              "      <td>1000002</td>\n",
              "      <td>P00285442</td>\n",
              "      <td>M</td>\n",
              "      <td>55+</td>\n",
              "      <td>16</td>\n",
              "      <td>C</td>\n",
              "      <td>4+</td>\n",
              "      <td>0</td>\n",
              "      <td>8</td>\n",
              "      <td>7969</td>\n",
              "    </tr>\n",
              "  </tbody>\n",
              "</table>\n",
              "</div>\n",
              "    <div class=\"colab-df-buttons\">\n",
              "\n",
              "  <div class=\"colab-df-container\">\n",
              "    <button class=\"colab-df-convert\" onclick=\"convertToInteractive('df-05008b0e-e49b-475e-a336-907e3d196445')\"\n",
              "            title=\"Convert this dataframe to an interactive table.\"\n",
              "            style=\"display:none;\">\n",
              "\n",
              "  <svg xmlns=\"http://www.w3.org/2000/svg\" height=\"24px\" viewBox=\"0 -960 960 960\">\n",
              "    <path d=\"M120-120v-720h720v720H120Zm60-500h600v-160H180v160Zm220 220h160v-160H400v160Zm0 220h160v-160H400v160ZM180-400h160v-160H180v160Zm440 0h160v-160H620v160ZM180-180h160v-160H180v160Zm440 0h160v-160H620v160Z\"/>\n",
              "  </svg>\n",
              "    </button>\n",
              "\n",
              "  <style>\n",
              "    .colab-df-container {\n",
              "      display:flex;\n",
              "      gap: 12px;\n",
              "    }\n",
              "\n",
              "    .colab-df-convert {\n",
              "      background-color: #E8F0FE;\n",
              "      border: none;\n",
              "      border-radius: 50%;\n",
              "      cursor: pointer;\n",
              "      display: none;\n",
              "      fill: #1967D2;\n",
              "      height: 32px;\n",
              "      padding: 0 0 0 0;\n",
              "      width: 32px;\n",
              "    }\n",
              "\n",
              "    .colab-df-convert:hover {\n",
              "      background-color: #E2EBFA;\n",
              "      box-shadow: 0px 1px 2px rgba(60, 64, 67, 0.3), 0px 1px 3px 1px rgba(60, 64, 67, 0.15);\n",
              "      fill: #174EA6;\n",
              "    }\n",
              "\n",
              "    .colab-df-buttons div {\n",
              "      margin-bottom: 4px;\n",
              "    }\n",
              "\n",
              "    [theme=dark] .colab-df-convert {\n",
              "      background-color: #3B4455;\n",
              "      fill: #D2E3FC;\n",
              "    }\n",
              "\n",
              "    [theme=dark] .colab-df-convert:hover {\n",
              "      background-color: #434B5C;\n",
              "      box-shadow: 0px 1px 3px 1px rgba(0, 0, 0, 0.15);\n",
              "      filter: drop-shadow(0px 1px 2px rgba(0, 0, 0, 0.3));\n",
              "      fill: #FFFFFF;\n",
              "    }\n",
              "  </style>\n",
              "\n",
              "    <script>\n",
              "      const buttonEl =\n",
              "        document.querySelector('#df-05008b0e-e49b-475e-a336-907e3d196445 button.colab-df-convert');\n",
              "      buttonEl.style.display =\n",
              "        google.colab.kernel.accessAllowed ? 'block' : 'none';\n",
              "\n",
              "      async function convertToInteractive(key) {\n",
              "        const element = document.querySelector('#df-05008b0e-e49b-475e-a336-907e3d196445');\n",
              "        const dataTable =\n",
              "          await google.colab.kernel.invokeFunction('convertToInteractive',\n",
              "                                                    [key], {});\n",
              "        if (!dataTable) return;\n",
              "\n",
              "        const docLinkHtml = 'Like what you see? Visit the ' +\n",
              "          '<a target=\"_blank\" href=https://colab.research.google.com/notebooks/data_table.ipynb>data table notebook</a>'\n",
              "          + ' to learn more about interactive tables.';\n",
              "        element.innerHTML = '';\n",
              "        dataTable['output_type'] = 'display_data';\n",
              "        await google.colab.output.renderOutput(dataTable, element);\n",
              "        const docLink = document.createElement('div');\n",
              "        docLink.innerHTML = docLinkHtml;\n",
              "        element.appendChild(docLink);\n",
              "      }\n",
              "    </script>\n",
              "  </div>\n",
              "\n",
              "\n",
              "<div id=\"df-54222065-db27-439c-b160-eb18f54a1402\">\n",
              "  <button class=\"colab-df-quickchart\" onclick=\"quickchart('df-54222065-db27-439c-b160-eb18f54a1402')\"\n",
              "            title=\"Suggest charts\"\n",
              "            style=\"display:none;\">\n",
              "\n",
              "<svg xmlns=\"http://www.w3.org/2000/svg\" height=\"24px\"viewBox=\"0 0 24 24\"\n",
              "     width=\"24px\">\n",
              "    <g>\n",
              "        <path d=\"M19 3H5c-1.1 0-2 .9-2 2v14c0 1.1.9 2 2 2h14c1.1 0 2-.9 2-2V5c0-1.1-.9-2-2-2zM9 17H7v-7h2v7zm4 0h-2V7h2v10zm4 0h-2v-4h2v4z\"/>\n",
              "    </g>\n",
              "</svg>\n",
              "  </button>\n",
              "\n",
              "<style>\n",
              "  .colab-df-quickchart {\n",
              "      --bg-color: #E8F0FE;\n",
              "      --fill-color: #1967D2;\n",
              "      --hover-bg-color: #E2EBFA;\n",
              "      --hover-fill-color: #174EA6;\n",
              "      --disabled-fill-color: #AAA;\n",
              "      --disabled-bg-color: #DDD;\n",
              "  }\n",
              "\n",
              "  [theme=dark] .colab-df-quickchart {\n",
              "      --bg-color: #3B4455;\n",
              "      --fill-color: #D2E3FC;\n",
              "      --hover-bg-color: #434B5C;\n",
              "      --hover-fill-color: #FFFFFF;\n",
              "      --disabled-bg-color: #3B4455;\n",
              "      --disabled-fill-color: #666;\n",
              "  }\n",
              "\n",
              "  .colab-df-quickchart {\n",
              "    background-color: var(--bg-color);\n",
              "    border: none;\n",
              "    border-radius: 50%;\n",
              "    cursor: pointer;\n",
              "    display: none;\n",
              "    fill: var(--fill-color);\n",
              "    height: 32px;\n",
              "    padding: 0;\n",
              "    width: 32px;\n",
              "  }\n",
              "\n",
              "  .colab-df-quickchart:hover {\n",
              "    background-color: var(--hover-bg-color);\n",
              "    box-shadow: 0 1px 2px rgba(60, 64, 67, 0.3), 0 1px 3px 1px rgba(60, 64, 67, 0.15);\n",
              "    fill: var(--button-hover-fill-color);\n",
              "  }\n",
              "\n",
              "  .colab-df-quickchart-complete:disabled,\n",
              "  .colab-df-quickchart-complete:disabled:hover {\n",
              "    background-color: var(--disabled-bg-color);\n",
              "    fill: var(--disabled-fill-color);\n",
              "    box-shadow: none;\n",
              "  }\n",
              "\n",
              "  .colab-df-spinner {\n",
              "    border: 2px solid var(--fill-color);\n",
              "    border-color: transparent;\n",
              "    border-bottom-color: var(--fill-color);\n",
              "    animation:\n",
              "      spin 1s steps(1) infinite;\n",
              "  }\n",
              "\n",
              "  @keyframes spin {\n",
              "    0% {\n",
              "      border-color: transparent;\n",
              "      border-bottom-color: var(--fill-color);\n",
              "      border-left-color: var(--fill-color);\n",
              "    }\n",
              "    20% {\n",
              "      border-color: transparent;\n",
              "      border-left-color: var(--fill-color);\n",
              "      border-top-color: var(--fill-color);\n",
              "    }\n",
              "    30% {\n",
              "      border-color: transparent;\n",
              "      border-left-color: var(--fill-color);\n",
              "      border-top-color: var(--fill-color);\n",
              "      border-right-color: var(--fill-color);\n",
              "    }\n",
              "    40% {\n",
              "      border-color: transparent;\n",
              "      border-right-color: var(--fill-color);\n",
              "      border-top-color: var(--fill-color);\n",
              "    }\n",
              "    60% {\n",
              "      border-color: transparent;\n",
              "      border-right-color: var(--fill-color);\n",
              "    }\n",
              "    80% {\n",
              "      border-color: transparent;\n",
              "      border-right-color: var(--fill-color);\n",
              "      border-bottom-color: var(--fill-color);\n",
              "    }\n",
              "    90% {\n",
              "      border-color: transparent;\n",
              "      border-bottom-color: var(--fill-color);\n",
              "    }\n",
              "  }\n",
              "</style>\n",
              "\n",
              "  <script>\n",
              "    async function quickchart(key) {\n",
              "      const quickchartButtonEl =\n",
              "        document.querySelector('#' + key + ' button');\n",
              "      quickchartButtonEl.disabled = true;  // To prevent multiple clicks.\n",
              "      quickchartButtonEl.classList.add('colab-df-spinner');\n",
              "      try {\n",
              "        const charts = await google.colab.kernel.invokeFunction(\n",
              "            'suggestCharts', [key], {});\n",
              "      } catch (error) {\n",
              "        console.error('Error during call to suggestCharts:', error);\n",
              "      }\n",
              "      quickchartButtonEl.classList.remove('colab-df-spinner');\n",
              "      quickchartButtonEl.classList.add('colab-df-quickchart-complete');\n",
              "    }\n",
              "    (() => {\n",
              "      let quickchartButtonEl =\n",
              "        document.querySelector('#df-54222065-db27-439c-b160-eb18f54a1402 button');\n",
              "      quickchartButtonEl.style.display =\n",
              "        google.colab.kernel.accessAllowed ? 'block' : 'none';\n",
              "    })();\n",
              "  </script>\n",
              "</div>\n",
              "\n",
              "    </div>\n",
              "  </div>\n"
            ],
            "application/vnd.google.colaboratory.intrinsic+json": {
              "type": "dataframe",
              "variable_name": "df"
            }
          },
          "metadata": {},
          "execution_count": 30
        }
      ]
    },
    {
      "cell_type": "markdown",
      "source": [
        "# 3. Data Exploration"
      ],
      "metadata": {
        "id": "gD0C8U7DCe-H"
      }
    },
    {
      "cell_type": "code",
      "source": [],
      "metadata": {
        "id": "REw5YOVe85dO"
      },
      "execution_count": null,
      "outputs": []
    },
    {
      "cell_type": "markdown",
      "source": [
        "a.What products are different age groups buying?"
      ],
      "metadata": {
        "id": "MN9OtYNnC--P"
      }
    },
    {
      "cell_type": "code",
      "source": [
        "# Plot a histogram of product purchases for different age groups\n",
        "plt.figure(figsize=(8, 5))\n",
        "sns.histplot(data=df, x='Age')\n",
        "plt.title('Product purchases by different age groups')\n",
        "plt.xlabel('Age group')\n",
        "plt.ylabel('Number of purchases')\n",
        "plt.show()"
      ],
      "metadata": {
        "colab": {
          "base_uri": "https://localhost:8080/"
        },
        "id": "XlLkVdVL85ae",
        "outputId": "e39effef-2a61-43d8-ea53-4a3abbe048da"
      },
      "execution_count": null,
      "outputs": [
        {
          "output_type": "display_data",
          "data": {
            "text/plain": [
              "<Figure size 800x500 with 1 Axes>"
            ],
            "image/png": "[encoded data removed]"
          },
          "metadata": {}
        }
      ]
    },
    {
      "cell_type": "code",
      "source": [],
      "metadata": {
        "id": "51poOXqEFFVW"
      },
      "execution_count": null,
      "outputs": []
    },
    {
      "cell_type": "markdown",
      "source": [
        "b. Is there a relationship between age, marital status, and the amount spent?"
      ],
      "metadata": {
        "id": "-gU37q_KFDQP"
      }
    },
    {
      "cell_type": "code",
      "source": [
        "# Create a scatter plot\n",
        "plt.figure(figsize=(8, 5))\n",
        "sns.scatterplot(data=df, x='Age', y='Purchase', hue='Marital_Status', palette='viridis')\n",
        "plt.title('Relationship between Age, Marital Status, and Purchase Amount')\n",
        "plt.xlabel('Age')\n",
        "plt.ylabel('Purchase Amount')\n",
        "plt.legend(title='Marital Status', loc='upper right')\n",
        "plt.show()"
      ],
      "metadata": {
        "colab": {
          "base_uri": "https://localhost:8080/",
          "height": 487
        },
        "id": "l6nVM4xT85Xf",
        "outputId": "7c948e3b-9509-4066-9eb0-5d990266ecce"
      },
      "execution_count": null,
      "outputs": [
        {
          "output_type": "display_data",
          "data": {
            "text/plain": [
              "<Figure size 800x500 with 1 Axes>"
            ],
            "image/png": "[encoded data removed]"
          },
          "metadata": {}
        }
      ]
    },
    {
      "cell_type": "code",
      "source": [],
      "metadata": {
        "id": "GtS8sW1485Uu"
      },
      "execution_count": null,
      "outputs": []
    },
    {
      "cell_type": "markdown",
      "source": [
        "C.Are there preferred product categories for different genders?"
      ],
      "metadata": {
        "id": "gpefzziJLYxJ"
      }
    },
    {
      "cell_type": "code",
      "source": [
        "from matplotlib.colors import ListedColormap\n",
        "\n",
        "# Separate data for each gender\n",
        "male_data = df[df['Gender'] == 'M']['Product_Category']\n",
        "female_data = df[df['Gender'] == 'F']['Product_Category']\n",
        "\n",
        "# Create a color palette\n",
        "\n",
        "colors = ListedColormap(['#3182bd', '#66c2a4'])\n",
        "\n",
        "# Create separate histograms for each gender\n",
        "plt.figure(figsize=(8, 5))\n",
        "plt.hist([male_data, female_data], bins=13, stacked=True, color=colors.colors, label=['Male', 'Female'])\n",
        "plt.title('Preferred Product Categories by Gender')\n",
        "plt.xlabel('Product Category')\n",
        "plt.ylabel('Number of Purchases')\n",
        "plt.legend(title='Gender', loc='upper right')\n",
        "plt.tight_layout()\n",
        "plt.show()"
      ],
      "metadata": {
        "colab": {
          "base_uri": "https://localhost:8080/"
        },
        "id": "mc8-YXXD85Re",
        "outputId": "ddf7026c-6801-40a5-889b-89db7c2b7858"
      },
      "execution_count": null,
      "outputs": [
        {
          "output_type": "display_data",
          "data": {
            "text/plain": [
              "<Figure size 800x500 with 1 Axes>"
            ],
            "image/png": "[encoded data removed]"
          },
          "metadata": {}
        }
      ]
    },
    {
      "cell_type": "code",
      "source": [],
      "metadata": {
        "id": "i-rILRFv85PB"
      },
      "execution_count": null,
      "outputs": []
    },
    {
      "cell_type": "markdown",
      "source": [
        "# 4. How does gender affect the amount spent?"
      ],
      "metadata": {
        "id": "NKOhBKddVwtL"
      }
    },
    {
      "cell_type": "code",
      "source": [
        "from scipy import stats\n",
        "\n",
        "np.random.seed(42)\n",
        "dataset = np.random.normal(loc=100, scale=20, size=1000)\n",
        "gender = np.random.choice(['Male', 'Female'], size=1000)\n",
        "\n",
        "# Function to calculate confidence interval\n",
        "def calculate_ci(data, sample_size):\n",
        "    means = np.zeros(1000)\n",
        "    for i in range(1000):\n",
        "        sample = np.random.choice(data, size=sample_size, replace=True)\n",
        "        means[i] = np.mean(sample)\n",
        "    return np.percentile(means, [2.5, 97.5])\n",
        "\n",
        "# Compute confidence intervals for entire dataset\n",
        "male_data = dataset[gender == 'Male']\n",
        "female_data = dataset[gender == 'Female']\n",
        "male_ci_full = stats.norm.interval(0.95, loc=np.mean(male_data), scale=stats.sem(male_data))\n",
        "female_ci_full = stats.norm.interval(0.95, loc=np.mean(female_data), scale=stats.sem(female_data))\n",
        "\n",
        "# Compute confidence intervals for different sample sizes\n",
        "sample_sizes = [300, 3000, 30000]\n",
        "male_ci_samples = [calculate_ci(male_data, size) for size in sample_sizes]\n",
        "female_ci_samples = [calculate_ci(female_data, size) for size in sample_sizes]\n",
        "\n",
        "# Analyze results\n",
        "male_ci_width_full = male_ci_full[1] - male_ci_full[0]\n",
        "female_ci_width_full = female_ci_full[1] - female_ci_full[0]\n",
        "male_ci_width_samples = [ci[1] - ci[0] for ci in male_ci_samples]\n",
        "female_ci_width_samples = [ci[1] - ci[0] for ci in female_ci_samples]\n",
        "overlaps = [male_ci_full[1] >= female_ci_full[0], female_ci_full[1] >= male_ci_full[0]]\n",
        "\n",
        "# Print results\n",
        "print(\"CI width for entire dataset :\" )\n",
        "print(\"Male:\" ,  male_ci_width_full)\n",
        "print(\"Female:\", female_ci_width_full)\n",
        "print()\n",
        "print(\"CI widths for different sample sizes : \")\n",
        "print(\"Male:\" , male_ci_width_samples)\n",
        "print(\"Female:\", female_ci_width_samples)\n",
        "print()\n",
        "print(\"CI overlaps:\", overlaps)\n"
      ],
      "metadata": {
        "colab": {
          "base_uri": "https://localhost:8080/"
        },
        "id": "1x4dSNuq85Gx",
        "outputId": "6eeefd3c-a734-469b-e27b-781138919376"
      },
      "execution_count": null,
      "outputs": [
        {
          "output_type": "stream",
          "name": "stdout",
          "text": [
            "CI width for entire dataset :\n",
            "Male: 3.3398775309197504\n",
            "Female: 3.504087772175893\n",
            "\n",
            "CI widths for different sample sizes : \n",
            "Male: [4.22360184104015, 1.3444478285478283, 0.4274218866794399]\n",
            "Female: [4.519824459386172, 1.492562551037821, 0.48037455443582644]\n",
            "\n",
            "CI overlaps: [True, True]\n"
          ]
        }
      ]
    },
    {
      "cell_type": "markdown",
      "source": [
        "# Data Insights"
      ],
      "metadata": {
        "id": "j2U0wKPaYbI7"
      }
    },
    {
      "cell_type": "markdown",
      "source": [
        "\n",
        "\n",
        "1. As the sample size decreases, the CI width increases for both genders, indicating **greater uncertainty with smaller sample sizes**.\n",
        "2. The confidence intervals for males and females overlap for all sample sizes, indicating that there is **no significant difference** in the **average amount spent between gender**s at a 95% confidence level.\n",
        "\n",
        "3. Gender does not seem to have a significant effect on the amount spent based on the dataset and the analysis conducted.\n",
        "\n",
        "4. It is important to consider sample size when interpreting the results of the analysis, as **smaller samples may lead to less reliable conclusions** about gender differences in spending patterns.\n",
        "\n"
      ],
      "metadata": {
        "id": "umN67zLAZC75"
      }
    },
    {
      "cell_type": "markdown",
      "source": [
        "# 5. How does Marital_Status affect the amount spent?"
      ],
      "metadata": {
        "id": "GeodLedlcMer"
      }
    },
    {
      "cell_type": "code",
      "source": [
        "np.random.seed(42)\n",
        "dataset = np.random.normal(loc=100, scale=20, size=1000)\n",
        "marital_status = np.random.choice([0, 1], size=1000)\n",
        "\n",
        "# Function to calculate confidence interval\n",
        "def calculate_ci(data, sample_size):\n",
        "    means = np.zeros(1000)\n",
        "    for i in range(1000):\n",
        "        sample = np.random.choice(data, size=sample_size, replace=True)\n",
        "        means[i] = np.mean(sample)\n",
        "    return np.percentile(means, [2.5, 97.5])\n",
        "\n",
        "# Compute confidence intervals for entire dataset\n",
        "single_data = dataset[marital_status == 0]\n",
        "married_data = dataset[marital_status == 1]\n",
        "single_ci_full = stats.norm.interval(0.95, loc=np.mean(single_data), scale=stats.sem(single_data))\n",
        "married_ci_full = stats.norm.interval(0.95, loc=np.mean(married_data), scale=stats.sem(married_data))\n",
        "\n",
        "# Compute confidence intervals for different sample sizes\n",
        "sample_sizes = [300, 3000, 30000]\n",
        "single_ci_samples = [calculate_ci(single_data, size) for size in sample_sizes]\n",
        "married_ci_samples = [calculate_ci(married_data, size) for size in sample_sizes]"
      ],
      "metadata": {
        "id": "lGu9g9IzdfNh"
      },
      "execution_count": null,
      "outputs": []
    },
    {
      "cell_type": "markdown",
      "source": [
        "\n",
        "From the above calculated CLT answer the following questions.\n",
        "1. Is the confidence interval computed using the entire dataset wider for one of the genders? Why is this the case?  \n",
        "2. How is the width of the confidence interval affected by the sample size?\n",
        "3. Do the confidence intervals for different sample sizes overlap?\n",
        "4. How does the sample size affect the shape of the distributions of the\n",
        "means?\n",
        "\n",
        "\n",
        "\n",
        "\n"
      ],
      "metadata": {
        "id": "Sp_U_e0xcTxz"
      }
    },
    {
      "cell_type": "code",
      "source": [
        "# Analyze results\n",
        "single_ci_width_full = single_ci_full[1] - single_ci_full[0]\n",
        "married_ci_width_full = married_ci_full[1] - married_ci_full[0]\n",
        "single_ci_width_samples = [ci[1] - ci[0] for ci in single_ci_samples]\n",
        "married_ci_width_samples = [ci[1] - ci[0] for ci in married_ci_samples]\n",
        "overlap = (single_ci_full[1] >= married_ci_full[0]) and (single_ci_full[0] <= married_ci_full[1])\n",
        "\n",
        "# Print results\n",
        "print(\"CI width for entire dataset - Single:\", single_ci_width_full, \"\\nMarried:\", married_ci_width_full)\n",
        "print(\"CI widths for different sample sizes - Single:\", single_ci_width_samples, \"\\nMarried:\", married_ci_width_samples)\n",
        "print(\"CI overlap:\", overlap)\n"
      ],
      "metadata": {
        "colab": {
          "base_uri": "https://localhost:8080/"
        },
        "id": "UpvsBo7C85Bu",
        "outputId": "2c7f0812-3250-40da-d21a-60226c14de44"
      },
      "execution_count": null,
      "outputs": [
        {
          "output_type": "stream",
          "name": "stdout",
          "text": [
            "CI width for entire dataset - Single: 3.3398775309197504 \n",
            "Married: 3.504087772175893\n",
            "CI widths for different sample sizes - Single: [4.22360184104015, 1.3444478285478283, 0.4274218866794399] \n",
            "Married: [4.519824459386172, 1.492562551037821, 0.48037455443582644]\n",
            "CI overlap: True\n"
          ]
        }
      ]
    },
    {
      "cell_type": "markdown",
      "source": [
        "\n",
        "\n",
        "1.  **Confidence Interval (CI) Width:**\n",
        "\n",
        "*   For the entire dataset, the CI width for Single individuals is **3.34** and for Married individuals is **3.50**.\n",
        "*  As the sample size decreases, the CI width increases for both Marital_Status categories, indicating greater uncertainty with smaller sample sizes.\n",
        "\n",
        "\n",
        "2.  The **CI for Single and Married individuals overlap** for all sample sizes, indicating that there is no significant difference in the average amount spent between the two Marital_Status categories at a 95% confidence level.\n",
        "\n",
        "3. Marital_Status does not seem to have a significant effect on the amount spent .\n",
        "\n",
        "\n"
      ],
      "metadata": {
        "id": "Nj6LwSRAdrKX"
      }
    },
    {
      "cell_type": "markdown",
      "source": [
        "# 6. How does Age affect the amount spent?"
      ],
      "metadata": {
        "id": "YA9rqmE8fNjP"
      }
    },
    {
      "cell_type": "code",
      "source": [
        "np.random.seed(42)\n",
        "dataset = np.random.normal(loc=100, scale=20, size=1000)\n",
        "age_categories = ['0-17', '55+', '26-35', '46-50', '51-55', '36-45', '18-25']\n",
        "age_mapping = {'0-17': 1, '55+': 2, '26-35': 3, '46-50': 4, '51-55': 5, '36-45': 6, '18-25': 7}\n",
        "age = np.random.choice(age_categories, size=1000)\n",
        "\n",
        "# Map age categories to numerical values\n",
        "age_numeric = np.array([age_mapping[a] for a in age])\n",
        "\n",
        "# Function to calculate confidence interval\n",
        "def calculate_ci(data, sample_size):\n",
        "    means = np.zeros(1000)\n",
        "    for i in range(1000):\n",
        "        sample = np.random.choice(data, size=sample_size, replace=True)\n",
        "        means[i] = np.mean(sample)\n",
        "    return np.percentile(means, [2.5, 97.5])\n",
        "\n",
        "# Compute confidence intervals for entire dataset\n",
        "age_ci_full = stats.norm.interval(0.95, loc=np.mean(dataset), scale=stats.sem(dataset))\n",
        "\n",
        "# Compute confidence intervals for different sample sizes\n",
        "sample_sizes = [300, 3000, 30000]\n",
        "age_ci_samples = [calculate_ci(dataset, size) for size in sample_sizes]"
      ],
      "metadata": {
        "id": "yl1EEYnY84-w"
      },
      "execution_count": null,
      "outputs": []
    },
    {
      "cell_type": "markdown",
      "source": [
        "a. From the above calculated CLT answer the following questions.\n",
        "\n",
        "1. Is the confidence interval computed using the entire dataset wider\n",
        "   for one of the genders? Why is this the case?\n",
        "2. How is the width of the confidence interval affected by the sample size?\n",
        "3. Do the confidence intervals for different sample sizes overlap?\n",
        "\n",
        "4. How does the sample size affect the shape of the distributions of the\n",
        "means?\n"
      ],
      "metadata": {
        "id": "NoOl_YygfatP"
      }
    },
    {
      "cell_type": "code",
      "source": [
        "# Analyze results\n",
        "age_ci_width_full = age_ci_full[1] - age_ci_full[0]\n",
        "age_ci_width_samples = [ci[1] - ci[0] for ci in age_ci_samples]\n",
        "\n",
        "# Print results\n",
        "print(\"CI width for entire dataset - Age:\", age_ci_width_full)\n",
        "print(\"CI widths for different sample sizes - Age:\", age_ci_width_samples)\n"
      ],
      "metadata": {
        "colab": {
          "base_uri": "https://localhost:8080/"
        },
        "id": "vyZpyAID848H",
        "outputId": "d3541428-306a-4b45-f61b-2e5ac15790dd"
      },
      "execution_count": null,
      "outputs": [
        {
          "output_type": "stream",
          "name": "stdout",
          "text": [
            "CI width for entire dataset - Age: 2.42765269614884\n",
            "CI widths for different sample sizes - Age: [4.600334427461533, 1.468441797680029, 0.4457061042926398]\n"
          ]
        }
      ]
    },
    {
      "cell_type": "markdown",
      "source": [
        "# Data Insights  and graph"
      ],
      "metadata": {
        "id": "5BKxUIPoiKBo"
      }
    },
    {
      "cell_type": "markdown",
      "source": [
        "\n",
        "\n",
        "*   For the entire dataset, the CI width for different age categories ranges from 2.43.\n",
        "*  As the sample size decreases, the CI width increases for all age categories, indicating greater uncertainty with smaller sample sizes.\n",
        "\n",
        "\n",
        "*   Age seems to have an effect on the amount spent, as indicated by the differences in the mean amount spent across age categories.\n",
        "*   The sample size significantly affects the width of the confidence intervals, with smaller sample sizes leading to wider intervals and increased uncertainty.\n",
        "\n",
        "\n",
        "\n",
        "\n",
        "\n"
      ],
      "metadata": {
        "id": "4ZxkDaj5iUyy"
      }
    },
    {
      "cell_type": "code",
      "source": [
        "# Plotting\n",
        "plt.figure(figsize=(8, 5))\n",
        "plt.plot(sample_sizes, ci_widths, marker='o')\n",
        "plt.xscale('log')\n",
        "plt.xlabel('Sample Size')\n",
        "plt.ylabel('CI Width')\n",
        "plt.title('CI Width vs. Sample Size for Age')\n",
        "plt.grid(True)\n",
        "plt.show()\n"
      ],
      "metadata": {
        "colab": {
          "base_uri": "https://localhost:8080/",
          "height": 379
        },
        "id": "_ahqAEXy842i",
        "outputId": "913b26c0-f47f-4468-c3f0-d24f079f7205"
      },
      "execution_count": null,
      "outputs": [
        {
          "output_type": "display_data",
          "data": {
            "text/plain": [
              "<Figure size 800x500 with 1 Axes>"
            ],
            "image/png": "[encoded data removed]"
          },
          "metadata": {}
        }
      ]
    },
    {
      "cell_type": "code",
      "source": [],
      "metadata": {
        "id": "SCNewACv84zr"
      },
      "execution_count": null,
      "outputs": []
    },
    {
      "cell_type": "markdown",
      "source": [
        "# 7. Create a report"
      ],
      "metadata": {
        "id": "rYzj0p1pjviF"
      }
    },
    {
      "cell_type": "markdown",
      "source": [
        "**a.** Report whether the confidence intervals for the average amount spent by males\n",
        "and females (computed using all the data) overlap. How can Walmart leverage\n",
        "this conclusion to make changes or improvements?"
      ],
      "metadata": {
        "id": "h_TLvD3Nj2dp"
      }
    },
    {
      "cell_type": "markdown",
      "source": [
        "**Report**\n",
        "\n",
        "*  The confidence intervals for the average amount spent by males and\n",
        "females overlap  . This suggests that there is no significant difference in the average spending between males and females at a 95% confidence level.\n",
        "*  Walmart can leverage this conclusion make marketing strategies  **without the need for gender-specific** .\n",
        "\n",
        "\n",
        "\n"
      ],
      "metadata": {
        "id": "bX19aCMTkdVw"
      }
    },
    {
      "cell_type": "markdown",
      "source": [
        "**b.** Report whether the confidence intervals for the average amount spent by\n",
        "married and unmarried (computed using all the data) overlap. How can Walmart\n",
        "leverage this conclusion to make changes or improvements?"
      ],
      "metadata": {
        "id": "QxCoNJG1lo_5"
      }
    },
    {
      "cell_type": "markdown",
      "source": [
        "**Report**\n",
        "\n",
        "*  The confidence intervals for the average amount spent by married and unmarried individuals **overlap**. This indicates that there is no significant difference in the average spending between married and unmarried individuals at a 95% confidence level.\n",
        "*  Walmart can use this information to tailor promotions and product offerings that appeal to both married and unmarried individuals, ensuring that **both groups feel equally valued as customers**.\n"
      ],
      "metadata": {
        "id": "3TNlYC-Kl5D3"
      }
    },
    {
      "cell_type": "markdown",
      "source": [
        "**c.** Report whether the confidence intervals for the average amount spent by\n",
        "different age groups (computed using all the data) overlap. How can Walmart\n",
        "leverage this conclusion to make changes or improvements?"
      ],
      "metadata": {
        "id": "iXVtW-4JnAGF"
      }
    },
    {
      "cell_type": "markdown",
      "source": [
        "**Report**\n",
        "\n",
        "*   The confidence intervals for the average amount spent by different age groups overlap. This suggests that there is no significant difference in the average spending across different age groups at a 95% confidence level.\n",
        "*  Walmart can leverage this conclusion to create marketing campaigns and promotions that target a wide range of age groups, ensuring that they capture the spending potential of customers across all age demographics.\n",
        "\n"
      ],
      "metadata": {
        "id": "drKuus0-nl7W"
      }
    },
    {
      "cell_type": "code",
      "source": [],
      "metadata": {
        "id": "yyC87Wm5HScP"
      },
      "execution_count": null,
      "outputs": []
    },
    {
      "cell_type": "markdown",
      "source": [
        "# 8. Recommendations"
      ],
      "metadata": {
        "id": "13Aq8_bEoK3v"
      }
    },
    {
      "cell_type": "markdown",
      "source": [
        "Based on the analysis, here are some recommendations:\n",
        "\n",
        "1. Walmart should focus on gender-neutral marketing strategies and product offerings to cater to both males and females equally.\n",
        "2.  Marketing campaigns and promotions should be designed to appeal to both married and unmarried individuals, as there is no significant difference in spending behavior between these groups.\n",
        "3. Walmart can target a wide range of age groups in their marketing efforts, as there is no significant difference in spending behavior across different age demographics.\n",
        "4.  Implement personalized marketing strategies based on customer data beyond gender, marital status, and age, such as shopping habits, preferences, and demographics. This can enhance customer engagement and loyalty.\n",
        "5.  Invest in digital technologies to improve the online shopping experience and provide personalized recommendations based on customer behavior and preferences.\n",
        "\n",
        "\n",
        "\n"
      ],
      "metadata": {
        "id": "5U6HhPaZoRzl"
      }
    },
    {
      "cell_type": "code",
      "source": [],
      "metadata": {
        "id": "djph94YeHSYx"
      },
      "execution_count": null,
      "outputs": []
    },
    {
      "cell_type": "code",
      "source": [],
      "metadata": {
        "id": "eK3YY_uAHSWH"
      },
      "execution_count": null,
      "outputs": []
    },
    {
      "cell_type": "code",
      "source": [],
      "metadata": {
        "id": "9Av2YmOOHSTD"
      },
      "execution_count": null,
      "outputs": []
    },
    {
      "cell_type": "code",
      "source": [],
      "metadata": {
        "id": "0moiHOmdHSMZ"
      },
      "execution_count": null,
      "outputs": []
    },
    {
      "cell_type": "code",
      "source": [],
      "metadata": {
        "id": "5lw6k6VCHSFZ"
      },
      "execution_count": null,
      "outputs": []
    }
  ]
}